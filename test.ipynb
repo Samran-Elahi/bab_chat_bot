{
 "cells": [
  {
   "cell_type": "code",
   "execution_count": 3,
   "metadata": {},
   "outputs": [],
   "source": [
    "from imports import *\n",
    "from constants import Const\n",
    "embeddings = OpenAIEmbeddings(api_key=Const.OPENAI_API_KEY)\n",
    "collection_name = Const.ARABIC_COLLECTION_NAME\n",
    "client = QdrantClient(url=Const.QDRANT_URL, headers={\"Authorization\": f\"Bearer {Const.QDRANT_API_KEY}\"})\n",
    "qdrant = Qdrant(client, collection_name, embeddings)\n",
    "qdrant = qdrant.from_texts(\n",
    "                \"oqba is a good boy\",\n",
    "                embeddings,\n",
    "                url=Const.QDRANT_URL,\n",
    "                prefer_grpc=True,\n",
    "                api_key=Const.QDRANT_API_KEY,\n",
    "                collection_name=collection_name)"
   ]
  },
  {
   "cell_type": "code",
   "execution_count": null,
   "metadata": {},
   "outputs": [],
   "source": []
  }
 ],
 "metadata": {
  "kernelspec": {
   "display_name": "myvenv",
   "language": "python",
   "name": "python3"
  },
  "language_info": {
   "codemirror_mode": {
    "name": "ipython",
    "version": 3
   },
   "file_extension": ".py",
   "mimetype": "text/x-python",
   "name": "python",
   "nbconvert_exporter": "python",
   "pygments_lexer": "ipython3",
   "version": "3.11.5"
  }
 },
 "nbformat": 4,
 "nbformat_minor": 2
}
